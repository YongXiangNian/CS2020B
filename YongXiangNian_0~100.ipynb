{
  "nbformat": 4,
  "nbformat_minor": 0,
  "metadata": {
    "colab": {
      "name": "YongXiangNian-0~100",
      "provenance": [],
      "authorship_tag": "ABX9TyMBN2nOQ16EQHa63+I9ixMr",
      "include_colab_link": true
    },
    "kernelspec": {
      "name": "python3",
      "display_name": "Python 3"
    }
  },
  "cells": [
    {
      "cell_type": "markdown",
      "metadata": {
        "id": "view-in-github",
        "colab_type": "text"
      },
      "source": [
        "<a href=\"https://colab.research.google.com/github/YongXiangNian/CS2020B/blob/master/YongXiangNian_0~100.ipynb\" target=\"_parent\"><img src=\"https://colab.research.google.com/assets/colab-badge.svg\" alt=\"Open In Colab\"/></a>"
      ]
    },
    {
      "cell_type": "code",
      "metadata": {
        "colab": {
          "base_uri": "https://localhost:8080/"
        },
        "id": "FWFiWEc6B3UG",
        "outputId": "cbd7a477-8a3d-4792-a885-1e9991923cca"
      },
      "source": [
        "def sum(x, y):\n",
        "    return x + y\n",
        "from functools import reduce\n",
        "print(reduce(sum, range(1,101)))"
      ],
      "execution_count": 1,
      "outputs": [
        {
          "output_type": "stream",
          "text": [
            "5050\n"
          ],
          "name": "stdout"
        }
      ]
    }
  ]
}